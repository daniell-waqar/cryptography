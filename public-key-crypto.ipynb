{
 "cells": [
  {
   "cell_type": "code",
   "execution_count": 1,
   "id": "0a2d3afc",
   "metadata": {},
   "outputs": [],
   "source": [
    "p = 2  # p and q should be prime numbers (mostly large)\n",
    "q = 7"
   ]
  },
  {
   "cell_type": "code",
   "execution_count": 2,
   "id": "2d70752b",
   "metadata": {},
   "outputs": [],
   "source": [
    "n = p * q"
   ]
  },
  {
   "cell_type": "code",
   "execution_count": 4,
   "id": "6188b310",
   "metadata": {},
   "outputs": [],
   "source": [
    "phi = (p-1) * (q-1)"
   ]
  },
  {
   "cell_type": "code",
   "execution_count": 5,
   "id": "760d6d82",
   "metadata": {},
   "outputs": [
    {
     "name": "stdout",
     "output_type": "stream",
     "text": [
      "14 6\n"
     ]
    }
   ],
   "source": [
    "print(n,phi)"
   ]
  },
  {
   "cell_type": "code",
   "execution_count": 6,
   "id": "42a85831",
   "metadata": {},
   "outputs": [],
   "source": [
    "# First find 'e' such that e and phi are co-primes\n",
    "# - being co-prime means that their GCD will be 1 OR\n",
    "# No shared factors except 1"
   ]
  },
  {
   "cell_type": "code",
   "execution_count": 8,
   "id": "8341c6ce",
   "metadata": {},
   "outputs": [],
   "source": [
    "def gcd(a,b):      # finding GCD of two numbers\n",
    "    while b!= 0:\n",
    "        a,b = b, a % b\n",
    "    return a"
   ]
  },
  {
   "cell_type": "code",
   "execution_count": 9,
   "id": "1409a53a",
   "metadata": {},
   "outputs": [],
   "source": [
    "def get_e(phi):\n",
    "    e = 2          # start with 2 bcz 1 is divisible for all nums\n",
    "    \n",
    "    while True:\n",
    "        if gcd(e,phi) == 1:   # it means e and phi are co-prime\n",
    "            break      # we have a good 'e'\n",
    "        \n",
    "        e += 1      # try next number\n",
    "    \n",
    "    return e"
   ]
  },
  {
   "cell_type": "code",
   "execution_count": 11,
   "id": "a59fdd44",
   "metadata": {},
   "outputs": [
    {
     "name": "stdout",
     "output_type": "stream",
     "text": [
      "5\n"
     ]
    }
   ],
   "source": [
    "e = get_e(phi)\n",
    "print(e)"
   ]
  },
  {
   "cell_type": "code",
   "execution_count": 12,
   "id": "92227146",
   "metadata": {},
   "outputs": [],
   "source": [
    "# find 'd' such that ed mod phi == 1"
   ]
  },
  {
   "cell_type": "code",
   "execution_count": 19,
   "id": "40c37458",
   "metadata": {},
   "outputs": [],
   "source": [
    "def get_d(init_val = 1):\n",
    "    d = init_val   \n",
    "    \n",
    "    while True:\n",
    "        if (e * d % phi) == 1:\n",
    "            break   # we have a good 'd'\n",
    "        \n",
    "        d += 1\n",
    "        \n",
    "    return d"
   ]
  },
  {
   "cell_type": "code",
   "execution_count": 21,
   "id": "80c19625",
   "metadata": {},
   "outputs": [
    {
     "name": "stdout",
     "output_type": "stream",
     "text": [
      "11\n"
     ]
    }
   ],
   "source": [
    "d = get_d(10)     # start with 10 so that 11 comes match condition\n",
    "print(d)"
   ]
  },
  {
   "cell_type": "code",
   "execution_count": 22,
   "id": "8f1308a8",
   "metadata": {},
   "outputs": [],
   "source": [
    "# let's encrypt just one character\n",
    "msg = 2"
   ]
  },
  {
   "cell_type": "code",
   "execution_count": 27,
   "id": "bb73c706",
   "metadata": {},
   "outputs": [],
   "source": [
    "# we're going to publish  e and n all over the world\n",
    "\n",
    "enc = msg**e % n  # Alice do and sent it to Bob on the internet"
   ]
  },
  {
   "cell_type": "code",
   "execution_count": 28,
   "id": "22d30a2e",
   "metadata": {},
   "outputs": [
    {
     "name": "stdout",
     "output_type": "stream",
     "text": [
      "4\n"
     ]
    }
   ],
   "source": [
    "print(enc)"
   ]
  },
  {
   "cell_type": "code",
   "execution_count": 29,
   "id": "cbd3fe26",
   "metadata": {},
   "outputs": [],
   "source": [
    "# let's decrypt msg to original\n",
    "decrypt = enc**d % n"
   ]
  },
  {
   "cell_type": "code",
   "execution_count": 30,
   "id": "8c7d2e7c",
   "metadata": {},
   "outputs": [
    {
     "name": "stdout",
     "output_type": "stream",
     "text": [
      "2\n"
     ]
    }
   ],
   "source": [
    "print(decrypt)"
   ]
  },
  {
   "cell_type": "code",
   "execution_count": 31,
   "id": "6b673785",
   "metadata": {},
   "outputs": [],
   "source": [
    "# The Core Concept: 'e' and 'n are well known' -- but 'd' is hidden"
   ]
  },
  {
   "cell_type": "markdown",
   "id": "0b6ff02c",
   "metadata": {},
   "source": [
    "# let's say, I wanted to tell you the amount I owe you but in a way that provides a guarntee that only I could have written that amount -- sort like a digital signature"
   ]
  },
  {
   "cell_type": "code",
   "execution_count": 32,
   "id": "dc5854b4",
   "metadata": {},
   "outputs": [],
   "source": [
    "amount = 1000"
   ]
  },
  {
   "cell_type": "code",
   "execution_count": 33,
   "id": "a32052ee",
   "metadata": {},
   "outputs": [],
   "source": [
    "  # 'sign' it -- meaning encrypt it with 'd' this time instead of 'e'"
   ]
  },
  {
   "cell_type": "code",
   "execution_count": 35,
   "id": "652d61f4",
   "metadata": {},
   "outputs": [
    {
     "name": "stdout",
     "output_type": "stream",
     "text": [
      "n  :   26069\n",
      "e  :   7\n",
      "d  :   22063\n",
      "phi :   25740\n"
     ]
    }
   ],
   "source": [
    "p = 199\n",
    "q = 131\n",
    "n = p * q\n",
    "phi = (p-1) * (q-1)\n",
    "e = get_e(phi)\n",
    "d = get_d()\n",
    "print('n  :  ' , n)\n",
    "\n",
    "print('e  :  ' , e)\n",
    "print('d  :  ' , d)\n",
    "print('phi :  ' , phi)\n"
   ]
  },
  {
   "cell_type": "code",
   "execution_count": 36,
   "id": "df38ed1e",
   "metadata": {},
   "outputs": [
    {
     "name": "stdout",
     "output_type": "stream",
     "text": [
      "17403\n"
     ]
    }
   ],
   "source": [
    "sign  = amount **d % n   # encrypt with d\n",
    "print(sign)"
   ]
  },
  {
   "cell_type": "code",
   "execution_count": 37,
   "id": "052e46ed",
   "metadata": {},
   "outputs": [
    {
     "name": "stdout",
     "output_type": "stream",
     "text": [
      "1000\n"
     ]
    }
   ],
   "source": [
    "# Now, since e is public key, anyone can verify that I've signed\n",
    "dec = sign**e % n\n",
    "print(dec)"
   ]
  },
  {
   "cell_type": "markdown",
   "id": "b6f3688b",
   "metadata": {},
   "source": [
    "# so anyone can crack 1000 it means it is not hidden, 1000 will be made if and only if 17403 is encrypted by my public key d"
   ]
  },
  {
   "cell_type": "code",
   "execution_count": 38,
   "id": "a2908aa2",
   "metadata": {},
   "outputs": [],
   "source": [
    "# so d is corresponding to e and only i've e it means i encrypt it\n",
    "\n",
    "# point: if something is cracked by d it means that thing is\n",
    "# encrypted by e and vice versa"
   ]
  },
  {
   "cell_type": "markdown",
   "id": "a601be54",
   "metadata": {},
   "source": [
    "# you don't actually sign the full msg.you take the hash of msg and sign that."
   ]
  },
  {
   "cell_type": "code",
   "execution_count": 39,
   "id": "cc39d179",
   "metadata": {},
   "outputs": [
    {
     "name": "stdout",
     "output_type": "stream",
     "text": [
      "n  :   706777\n",
      "e  :   3\n",
      "d  :   470051\n",
      "phi :   705076\n"
     ]
    }
   ],
   "source": [
    "p = 983\n",
    "q = 719\n",
    "n = p * q\n",
    "phi = (p-1) * (q-1)\n",
    "e = get_e(phi)\n",
    "d = get_d()\n",
    "print('n  :  ' , n)\n",
    "\n",
    "print('e  :  ' , e)\n",
    "print('d  :  ' , d)\n",
    "print('phi :  ' , phi)"
   ]
  },
  {
   "cell_type": "code",
   "execution_count": 40,
   "id": "06ea2fff",
   "metadata": {},
   "outputs": [],
   "source": [
    "def bad_hash(msg):\n",
    "    s = 0;\n",
    "    for c in msg:\n",
    "        s += ord(c)\n",
    "    \n",
    "    return int(s % 1e10)"
   ]
  },
  {
   "cell_type": "code",
   "execution_count": 41,
   "id": "39dbbfb6",
   "metadata": {},
   "outputs": [],
   "source": [
    "message = \"I owe you a total of PKs 1000 Collect on April 28, 2023\" "
   ]
  },
  {
   "cell_type": "code",
   "execution_count": 43,
   "id": "06f46ecd",
   "metadata": {},
   "outputs": [],
   "source": [
    "digest = bad_hash(message) # poor hash function just undersatnd the functionality of hash function"
   ]
  },
  {
   "cell_type": "code",
   "execution_count": 46,
   "id": "0a4ed6b5",
   "metadata": {},
   "outputs": [
    {
     "data": {
      "text/plain": [
       "4242"
      ]
     },
     "execution_count": 46,
     "metadata": {},
     "output_type": "execute_result"
    }
   ],
   "source": [
    "digest"
   ]
  },
  {
   "cell_type": "code",
   "execution_count": 48,
   "id": "9ba8b05b",
   "metadata": {},
   "outputs": [
    {
     "name": "stdout",
     "output_type": "stream",
     "text": [
      "565054\n"
     ]
    }
   ],
   "source": [
    "sign = digest ** d % n  # now we sign it OR encrypt the digest\n",
    "print(sign)"
   ]
  },
  {
   "cell_type": "code",
   "execution_count": 49,
   "id": "c4d4ca42",
   "metadata": {},
   "outputs": [
    {
     "data": {
      "text/plain": [
       "('I owe you a total of PKs 1000 Collect on April 28, 2023', 565054)"
      ]
     },
     "execution_count": 49,
     "metadata": {},
     "output_type": "execute_result"
    }
   ],
   "source": [
    "# send this to the public\n",
    "\n",
    "(message , sign)"
   ]
  },
  {
   "cell_type": "code",
   "execution_count": 50,
   "id": "f1cf25c6",
   "metadata": {},
   "outputs": [
    {
     "data": {
      "text/plain": [
       "4242"
      ]
     },
     "execution_count": 50,
     "metadata": {},
     "output_type": "execute_result"
    }
   ],
   "source": [
    "# public identifies that it was you or not!!!\n",
    "\n",
    "digest = bad_hash(message)\n",
    "digest"
   ]
  },
  {
   "cell_type": "code",
   "execution_count": 51,
   "id": "1d9318f2",
   "metadata": {},
   "outputs": [
    {
     "name": "stdout",
     "output_type": "stream",
     "text": [
      "4242\n"
     ]
    }
   ],
   "source": [
    "dec = sign ** e % n\n",
    "print(dec)"
   ]
  },
  {
   "cell_type": "code",
   "execution_count": 53,
   "id": "d86e44cc",
   "metadata": {},
   "outputs": [
    {
     "data": {
      "text/plain": [
       "True"
      ]
     },
     "execution_count": 53,
     "metadata": {},
     "output_type": "execute_result"
    }
   ],
   "source": [
    "dec == digest    # All the set!\n",
    "                # value is same it means that is your sign bcoz the corresponding value of d\n",
    "                # is only you know "
   ]
  },
  {
   "cell_type": "code",
   "execution_count": null,
   "id": "0559729e",
   "metadata": {},
   "outputs": [],
   "source": []
  }
 ],
 "metadata": {
  "kernelspec": {
   "display_name": "Python 3 (ipykernel)",
   "language": "python",
   "name": "python3"
  },
  "language_info": {
   "codemirror_mode": {
    "name": "ipython",
    "version": 3
   },
   "file_extension": ".py",
   "mimetype": "text/x-python",
   "name": "python",
   "nbconvert_exporter": "python",
   "pygments_lexer": "ipython3",
   "version": "3.10.6"
  }
 },
 "nbformat": 4,
 "nbformat_minor": 5
}
