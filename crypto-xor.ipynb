{
 "cells": [
  {
   "cell_type": "code",
   "execution_count": 1,
   "id": "ce61a4da",
   "metadata": {},
   "outputs": [
    {
     "data": {
      "text/plain": [
       "'0b110111'"
      ]
     },
     "execution_count": 1,
     "metadata": {},
     "output_type": "execute_result"
    }
   ],
   "source": [
    "# convert numbers to binary\n",
    "bin(55)      #it gives output in string"
   ]
  },
  {
   "cell_type": "code",
   "execution_count": 3,
   "id": "6ec459ab",
   "metadata": {},
   "outputs": [
    {
     "data": {
      "text/plain": [
       "'0b0'"
      ]
     },
     "execution_count": 3,
     "metadata": {},
     "output_type": "execute_result"
    }
   ],
   "source": [
    "# Exclusive OR\n",
    "bin(0b1111 ^ 0b1111)  # ^ symbol used for XOR\n",
    "                        #when you apply XOR on same numbers it will always give zero in Output"
   ]
  },
  {
   "cell_type": "code",
   "execution_count": 4,
   "id": "2279c95b",
   "metadata": {},
   "outputs": [
    {
     "data": {
      "text/plain": [
       "'0b1'"
      ]
     },
     "execution_count": 4,
     "metadata": {},
     "output_type": "execute_result"
    }
   ],
   "source": [
    "bin(0b1111 ^ 0b1110) "
   ]
  },
  {
   "cell_type": "code",
   "execution_count": 5,
   "id": "e776035d",
   "metadata": {},
   "outputs": [
    {
     "data": {
      "text/plain": [
       "'0b11'"
      ]
     },
     "execution_count": 5,
     "metadata": {},
     "output_type": "execute_result"
    }
   ],
   "source": [
    "bin(0b1111 ^ 0b1100) "
   ]
  },
  {
   "cell_type": "code",
   "execution_count": 6,
   "id": "3290069c",
   "metadata": {},
   "outputs": [
    {
     "data": {
      "text/plain": [
       "'0b1111'"
      ]
     },
     "execution_count": 6,
     "metadata": {},
     "output_type": "execute_result"
    }
   ],
   "source": [
    "bin(0b1111 ^ 0b0000)  ##when you apply XOR pf number with Zero  it will always give that number in putput"
   ]
  },
  {
   "cell_type": "code",
   "execution_count": 9,
   "id": "f9cbe2c9",
   "metadata": {},
   "outputs": [
    {
     "data": {
      "text/plain": [
       "65"
      ]
     },
     "execution_count": 9,
     "metadata": {},
     "output_type": "execute_result"
    }
   ],
   "source": [
    "# Getting unicode representation or ASCII value\n",
    "# use ord built-in function\n",
    "# it also work with non-English alphabet too  like a^ etc \n",
    "\n",
    "ord('A')"
   ]
  },
  {
   "cell_type": "code",
   "execution_count": 13,
   "id": "886edabe",
   "metadata": {},
   "outputs": [
    {
     "name": "stdout",
     "output_type": "stream",
     "text": [
      "12\n",
      "12\n"
     ]
    }
   ],
   "source": [
    "# don't actually need to convert into binary\n",
    "\n",
    "print(0b1111 ^ 0b0011) \n",
    "print(15 ^ 3)"
   ]
  },
  {
   "cell_type": "code",
   "execution_count": 15,
   "id": "fa1ceb6d",
   "metadata": {},
   "outputs": [
    {
     "name": "stdout",
     "output_type": "stream",
     "text": [
      "0b1100\n",
      "0b1100\n"
     ]
    }
   ],
   "source": [
    "print(bin(0b1111 ^ 0b0011)) \n",
    "print(bin(15 ^ 3))"
   ]
  },
  {
   "cell_type": "code",
   "execution_count": 17,
   "id": "35ecff5a",
   "metadata": {},
   "outputs": [
    {
     "name": "stdout",
     "output_type": "stream",
     "text": [
      "0b1100\n",
      "0b1010\n"
     ]
    }
   ],
   "source": [
    "\n",
    "# finally Idea? if you XOR with the same thing twice,\n",
    "# you get the original back\n",
    "\n",
    "r1 = 0b1010 ^ 0b0110\n",
    "print(bin(r1))\n",
    "\n",
    "r2 = r1 ^ 0b0110\n",
    "print(bin(r2))   # original number b1010\n"
   ]
  },
  {
   "cell_type": "markdown",
   "id": "9393bdbe",
   "metadata": {},
   "source": [
    "# Building XOR-based Crypto\n"
   ]
  },
  {
   "cell_type": "code",
   "execution_count": 18,
   "id": "9f172cbd",
   "metadata": {},
   "outputs": [],
   "source": [
    "message = \"Hello, I am hiding in the buncker,come get me, please!\""
   ]
  },
  {
   "cell_type": "code",
   "execution_count": 23,
   "id": "1e9b86a1",
   "metadata": {},
   "outputs": [
    {
     "name": "stdout",
     "output_type": "stream",
     "text": [
      "72\n",
      "101\n",
      "108\n",
      "108\n",
      "111\n"
     ]
    }
   ],
   "source": [
    "for c in message[:5]:\n",
    "    print(ord(c))"
   ]
  },
  {
   "cell_type": "code",
   "execution_count": 24,
   "id": "a9c60cc1",
   "metadata": {},
   "outputs": [
    {
     "data": {
      "text/plain": [
       "'H'"
      ]
     },
     "execution_count": 24,
     "metadata": {},
     "output_type": "execute_result"
    }
   ],
   "source": [
    "chr(72)"
   ]
  },
  {
   "cell_type": "code",
   "execution_count": 25,
   "id": "8172656e",
   "metadata": {},
   "outputs": [],
   "source": [
    "key = 0b10101010  # you can take int key as well"
   ]
  },
  {
   "cell_type": "code",
   "execution_count": 26,
   "id": "ac4e7a0b",
   "metadata": {},
   "outputs": [
    {
     "data": {
      "text/plain": [
       "170"
      ]
     },
     "execution_count": 26,
     "metadata": {},
     "output_type": "execute_result"
    }
   ],
   "source": [
    "int(key)"
   ]
  },
  {
   "cell_type": "markdown",
   "id": "e5988236",
   "metadata": {},
   "source": [
    "# Let's do Encryption"
   ]
  },
  {
   "cell_type": "code",
   "execution_count": 27,
   "id": "7deda8dd",
   "metadata": {},
   "outputs": [],
   "source": [
    "message = \"Hello, I am hiding in the buncker,come get me, please!\""
   ]
  },
  {
   "cell_type": "code",
   "execution_count": 39,
   "id": "144d1f07",
   "metadata": {},
   "outputs": [],
   "source": [
    "def encrypt(msg , key):\n",
    "    encrypted_msg = \" \"\n",
    "    \n",
    "    for c in msg:  # each character gets encypted separately\n",
    "        \n",
    "        c_bin = ord(c)    # take each character, XOR with key \n",
    "                            # append into encrypted_msg\n",
    "        c_encrypted = c_bin ^ key\n",
    "        c_encrypted = chr(c_encrypted)\n",
    "        encrypted_msg += c_encrypted \n",
    "        \n",
    "    return encrypted_msg\n",
    "        \n",
    "    "
   ]
  },
  {
   "cell_type": "code",
   "execution_count": 40,
   "id": "91447fd0",
   "metadata": {},
   "outputs": [],
   "source": [
    "key = 170\n",
    "cypher_text = encrypt(message,key)"
   ]
  },
  {
   "cell_type": "code",
   "execution_count": 41,
   "id": "06266a37",
   "metadata": {},
   "outputs": [
    {
     "name": "stdout",
     "output_type": "stream",
     "text": [
      " âÏÆÆÅãËÇÂÃÎÃÄÍÃÄÞÂÏÈßÄÉÁÏØÉÅÇÏÍÏÞÇÏÚÆÏËÙÏ\n"
     ]
    }
   ],
   "source": [
    "print(cypher_text)     # Now if someone look at the following text\n",
    "                    # but he can't understand it"
   ]
  },
  {
   "cell_type": "code",
   "execution_count": 42,
   "id": "b08ad19a",
   "metadata": {},
   "outputs": [
    {
     "name": "stdout",
     "output_type": "stream",
     "text": [
      "226\n",
      "â\n"
     ]
    }
   ],
   "source": [
    "print(    ord('H') ^ 170)\n",
    "print(    chr(ord('H') ^ 170))"
   ]
  },
  {
   "cell_type": "code",
   "execution_count": 55,
   "id": "cf0119d8",
   "metadata": {},
   "outputs": [],
   "source": [
    "def decrypt(msg , key):\n",
    "    decrypted_msg = \" \"\n",
    "    \n",
    "    for c in msg:  \n",
    "        \n",
    "        c_bin = ord(c)   \n",
    "        c_decrypted = c_bin ^ key\n",
    "        c_decrypted = chr(c_decrypted)\n",
    "        decrypted_msg += c_decrypted \n",
    "        \n",
    "    return decrypted_msg\n",
    "        "
   ]
  },
  {
   "cell_type": "code",
   "execution_count": 59,
   "id": "f2ba38e2",
   "metadata": {},
   "outputs": [],
   "source": [
    "key = 170\n",
    "decrypted = decrypt(cypher_text,key)"
   ]
  },
  {
   "cell_type": "code",
   "execution_count": 60,
   "id": "9304d11d",
   "metadata": {},
   "outputs": [
    {
     "name": "stdout",
     "output_type": "stream",
     "text": [
      " Hello, I am hiding in the buncker,come get me, please!\n"
     ]
    }
   ],
   "source": [
    "print(decrypted) "
   ]
  },
  {
   "cell_type": "markdown",
   "id": "641cbf37",
   "metadata": {},
   "source": [
    "# Breaking the key"
   ]
  },
  {
   "cell_type": "code",
   "execution_count": 64,
   "id": "b8d8e0fd",
   "metadata": {},
   "outputs": [
    {
     "name": "stdout",
     "output_type": "stream",
     "text": [
      " #áÌÅÅÆ",
      "àÈÄÁÀÍÀÇÎÀÇÝÁÌËÜÇÊÂÌÛ",
      "ÊÆÄÌÎÌÝÄÌ",
      "ÙÅÌÈÚÌ\n"
     ]
    }
   ],
   "source": [
    "# let's try to brute forcing it\n",
    "\n",
    "key = 3   # not works!\n",
    "\n",
    "decrypted = decrypt(cypher_text , key)\n",
    "print(decrypted)"
   ]
  },
  {
   "cell_type": "code",
   "execution_count": 67,
   "id": "f4ae1988",
   "metadata": {},
   "outputs": [
    {
     "name": "stdout",
     "output_type": "stream",
     "text": [
      " Boffe&*C*kg*bcncdm*cd*~bo*hdiaox&iego*mo~*go&*zfokyo+\n",
      " Cnggd'+B+jf+cbobel+be+cn+i~eh`ny'hdfn+ln+fn'+{gnjxn*\n",
      " @mddg$(A(ie(`alafo(af(|`m(j}fkcmz$kgem(om|(em$(xdmi{m)\n",
      " Aleef%)@)hd)a`m`gn)`g)}al)k|gjbl{%jfdl)nl})dl%)yelhzl(\n",
      " Fkbba\".G.oc.fgjg`i.g`.zfk.l{`mek|\"mack.ikz.ck\".~bko}k/\n",
      " ",
      "Gjcc`#/F/nb/gfkfah/fa/{gj/mzaldj}#l`bj/hj{/bj#/cjn|j.\n",
      " Di``c ,E,ma,dehebk,eb,xdi,nybogi~ ocai,kix,ai ,|`imi-\n",
      " Ehaab!-D-l`-edidcj-dc-yeh-oxcnfh!nb`h-jhy-`h!-}ahl~h,\n",
      " Jgnnm.\"K\"co\"jkfkle\"kl\"vjg\"`wlaigp.amog\"egv\"og.\"rngcqg#\n",
      " Kfool/#J#bn#kjgjmd#jm#wkf#avm`hfq/`lnf#dfw#nf/#sofbpf\"\n",
      " Hello, I am hiding in the buncker,come get me, please!\n",
      " Idmmn-!H!`l!ihehof!ho!uid!ctobjds-bnld!fdu!ld-!qmd`rd \n"
     ]
    }
   ],
   "source": [
    "for key in range(160 , 172):    # now it may break the key if key was known\n",
    "    print(decrypt(cypher_text , key))"
   ]
  },
  {
   "cell_type": "code",
   "execution_count": null,
   "id": "83413179",
   "metadata": {},
   "outputs": [],
   "source": []
  },
  {
   "cell_type": "code",
   "execution_count": null,
   "id": "8b531ff2",
   "metadata": {},
   "outputs": [],
   "source": []
  }
 ],
 "metadata": {
  "kernelspec": {
   "display_name": "Python 3 (ipykernel)",
   "language": "python",
   "name": "python3"
  },
  "language_info": {
   "codemirror_mode": {
    "name": "ipython",
    "version": 3
   },
   "file_extension": ".py",
   "mimetype": "text/x-python",
   "name": "python",
   "nbconvert_exporter": "python",
   "pygments_lexer": "ipython3",
   "version": "3.10.6"
  }
 },
 "nbformat": 4,
 "nbformat_minor": 5
}
